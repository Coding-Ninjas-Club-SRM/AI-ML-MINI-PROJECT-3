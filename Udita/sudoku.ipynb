{
  "nbformat": 4,
  "nbformat_minor": 0,
  "metadata": {
    "colab": {
      "name": "sudoku.ipynb",
      "provenance": [],
      "collapsed_sections": []
    },
    "kernelspec": {
      "display_name": "Python 3",
      "name": "python3"
    },
    "language_info": {
      "name": "python"
    }
  },
  "cells": [
    {
      "cell_type": "code",
      "metadata": {
        "id": "7uh8Pf2CgtmM"
      },
      "source": [
        "#importing packages \n",
        "import tensorflow as tf\n",
        "\n",
        "from keras.datasets import mnist\n",
        "import matplotlib.pyplot as plt\n",
        "import cv2\n",
        "import numpy as np\n",
        "\n",
        "(trainx,trainy),(testx,testy)=mnist.load_data()\n"
      ],
      "execution_count": 17,
      "outputs": []
    },
    {
      "cell_type": "code",
      "metadata": {
        "id": "3ht1KPpSf25i"
      },
      "source": [
        "#functions I need\n",
        "def order_corner_points(corners):\n",
        "    corners = [(corner[0][0], corner[0][1]) for corner in corners]\n",
        "    top_r, top_l, bottom_l, bottom_r = corners[0], corners[1], corners[2], corners[3]\n",
        "    return top_l, top_r, bottom_r, bottom_l\n",
        "def find_corners(img):\n",
        "    ext_contours = cv2.findContours(img, cv2.RETR_TREE,cv2.CHAIN_APPROX_SIMPLE)\n",
        "    ext_contours = ext_contours[0] if len(ext_contours) == 2 else ext_contours[1]\n",
        "    ext_contours = sorted(ext_contours, key=cv2.contourArea, reverse=True)\n",
        "\n",
        "    for c in ext_contours:\n",
        "        peri = cv2.arcLength(c, True)\n",
        "        approx = cv2.approxPolyDP(c, 0.015 * peri, True)\n",
        "        if len(approx) == 4:\n",
        "            return approx\n",
        "def processing(img, skip_dilate=False):\n",
        "    img = cv2.cvtColor(img, cv2.COLOR_BGR2GRAY)\n",
        "    process = cv2.GaussianBlur(img.copy(), (9, 9), 0)\n",
        "    process = cv2.adaptiveThreshold(process, 255, cv2.ADAPTIVE_THRESH_GAUSSIAN_C, cv2.THRESH_BINARY, 11, 2)\n",
        "    process = cv2.bitwise_not(process, process)\n",
        "    return process\n",
        "\n",
        "def perspective_transform(image, corners):\n",
        "    ordered_corners = order_corner_points(corners)\n",
        "    top_l, top_r, bottom_r, bottom_l = ordered_corners\n",
        "\n",
        "\n",
        "    width_A = np.sqrt(((bottom_r[0] - bottom_l[0])**2) + ((bottom_r[1] - bottom_l[1])**2))\n",
        "    width_B = np.sqrt(((top_r[0] - top_l[0])**2) + ((top_r[1] - top_l[1])**2))\n",
        "    width = max(int(width_A), int(width_B))\n",
        "\n",
        "\n",
        "    height_A = np.sqrt(((top_r[0] - bottom_r[0])**2) + ((top_r[1] - bottom_r[1])**2))\n",
        "    height_B = np.sqrt(((top_l[0] - bottom_l[0])**2) + ((top_l[1] - bottom_l[1])**2))\n",
        "    height = max(int(height_A), int(height_B))\n",
        "    dimensions = np.array([[0, 0], [width - 1, 0], [width - 1, height - 1],\n",
        "                           [0, height - 1]], dtype=\"float32\")\n",
        "\n",
        "    ordered_corners = np.array(ordered_corners, dtype=\"float32\")\n",
        "\n",
        "    grid = cv2.getPerspectiveTransform(ordered_corners, dimensions)\n",
        "\n",
        "    return cv2.warpPerspective(image, grid, (width, height))\n"
      ],
      "execution_count": 19,
      "outputs": []
    },
    {
      "cell_type": "code",
      "metadata": {
        "id": "8tsK0NfwjrqG"
      },
      "source": [
        "trainx = trainx.reshape(60000, 28, 28, 1)\n",
        "testx = testx.reshape(10000, 28, 28, 1)\n",
        "trainx=trainx/255\n",
        "testx = testx / 255"
      ],
      "execution_count": 20,
      "outputs": []
    },
    {
      "cell_type": "code",
      "metadata": {
        "id": "CUG73OYusskg"
      },
      "source": [
        "class myCallback(tf.keras.callbacks.Callback):\n",
        "  def on_epoch_end(self, epoch, logs={}):\n",
        "    if(logs.get('accuracy')>0.98):\n",
        "      print(\"Training cancelled\")\n",
        "      self.model.stop_training = True\n",
        "callbacks = myCallback()"
      ],
      "execution_count": 21,
      "outputs": []
    },
    {
      "cell_type": "code",
      "metadata": {
        "colab": {
          "base_uri": "https://localhost:8080/"
        },
        "id": "x-ZOXZvKksKP",
        "outputId": "3ed910f4-49e8-45a1-86cd-1c7a4e045d0a"
      },
      "source": [
        "#training\n",
        "model = tf.keras.models.Sequential([\n",
        "\n",
        "    tf.keras.layers.Conv2D(32, (3,3), activation='relu', input_shape=(28, 28, 1)),\n",
        "    tf.keras.layers.MaxPooling2D(2, 2),\n",
        "    tf.keras.layers.Flatten(),\n",
        "    tf.keras.layers.Dense(128, activation='relu'),\n",
        "    tf.keras.layers.Dense(10, activation='softmax')\n",
        "        \n",
        "])\n",
        "\n",
        "model.compile(optimizer='adam', loss='sparse_categorical_crossentropy', metrics=['accuracy'])\n",
        "\n",
        "history = model.fit(\n",
        "    trainx, trainy, epochs=20, callbacks=[callbacks],\n",
        "    \n",
        ")\n"
      ],
      "execution_count": null,
      "outputs": [
        {
          "name": "stdout",
          "output_type": "stream",
          "text": [
            "Epoch 1/20\n",
            "1875/1875 [==============================] - 38s 20ms/step - loss: 0.1661 - accuracy: 0.9509\n",
            "Epoch 2/20\n",
            "1873/1875 [============================>.] - ETA: 0s - loss: 0.0574 - accuracy: 0.9824\n",
            "Reached 9% accuracy so cancelling training!\n",
            "1875/1875 [==============================] - 37s 20ms/step - loss: 0.0574 - accuracy: 0.9824\n"
          ]
        }
      ]
    },
    {
      "cell_type": "code",
      "metadata": {
        "colab": {
          "base_uri": "https://localhost:8080/"
        },
        "id": "vQOV8iBYsDC4",
        "outputId": "50248dd0-8701-4571-c03e-946118a0e48d"
      },
      "source": [
        "model.save('Mymodel.h5') #saving model"
      ],
      "execution_count": null,
      "outputs": [
        {
          "name": "stdout",
          "output_type": "stream",
          "text": [
            "INFO:tensorflow:Assets written to: MyModel/assets\n"
          ]
        }
      ]
    },
    {
      "cell_type": "code",
      "metadata": {
        "colab": {
          "base_uri": "https://localhost:8080/"
        },
        "id": "JwPdqlfkwd8k",
        "outputId": "8d169283-478c-4043-e578-c05200106adc"
      },
      "source": [
        "_, acc = model.evaluate(testx, testy, verbose=0) #evaluating\n",
        "print(acc)"
      ],
      "execution_count": null,
      "outputs": [
        {
          "name": "stdout",
          "output_type": "stream",
          "text": [
            "0.9825000166893005\n"
          ]
        }
      ]
    },
    {
      "cell_type": "code",
      "metadata": {
        "colab": {
          "base_uri": "https://localhost:8080/"
        },
        "id": "NeN7RWzdmRdo",
        "outputId": "2c3b57fb-e286-461b-c169-b3877c6f1556"
      },
      "source": [
        "tf.keras.models.load_model(\"myModel.h5\") #loading model after saving it"
      ],
      "execution_count": 22,
      "outputs": [
        {
          "output_type": "execute_result",
          "data": {
            "text/plain": [
              "<keras.engine.sequential.Sequential at 0x7f2fc1470e10>"
            ]
          },
          "metadata": {},
          "execution_count": 22
        }
      ]
    },
    {
      "cell_type": "code",
      "metadata": {
        "id": "NtSnW0sEYpUK"
      },
      "source": [
        "#function to pre process\n",
        "def preProcess(img):\n",
        "    if img.shape[2] == 3:\n",
        "\n",
        "        imgGray = cv2.cvtColor(img, cv2.COLOR_BGR2GRAY)\n",
        "        imgBlur = cv2.GaussianBlur(imgGray, (5, 5), 1)  \n",
        "        imgThreshold = cv2.adaptiveThreshold(imgBlur, 255, cv2.ADAPTIVE_THRESH_GAUSSIAN_C, cv2.THRESH_BINARY, 11, 2)  \n",
        "        imgThreshold = cv2.bitwise_not(imgThreshold)\n",
        "    else:\n",
        "        imgGray = cv2.cvtColor(img, cv2.COLOR_BGR2GRAY)\n",
        "        imgThreshold = cv2.bitwise_not(imgGray).astype('uint8')\n",
        "    return imgThreshold"
      ],
      "execution_count": 23,
      "outputs": []
    },
    {
      "cell_type": "code",
      "metadata": {
        "colab": {
          "base_uri": "https://localhost:8080/",
          "height": 304
        },
        "id": "gDAduCESxuXH",
        "outputId": "dd424e2a-4d00-4229-95fc-d24b359cbfef"
      },
      "source": [
        "#loading puzzle and pre-processing it\n",
        "puzzle= cv2.imread(\"sudo2.jpeg\")[:,:,::-1]\n",
        "puzzle = cv2.resize(puzzle, (450, 450))\n",
        "print(puzzle.shape)\n",
        "puzzle=preProcess(puzzle)\n",
        "\n",
        "sudoku = find_corners(puzzle) #finding the 4 corners of the sudoku puzzle\n",
        "#new=transformed image\n",
        "new = perspective_transform(puzzle, sudoku)#warping the sudoku\n",
        "new = cv2.resize(new, (450,450))\n",
        "new = cv2.rotate(new, cv2.cv2.ROTATE_90_COUNTERCLOCKWISE)\n",
        "new = cv2.bitwise_not(new) #inverting the image\n",
        "puzzle=new\n",
        "plt.imshow(puzzle,cmap=\"Greys_r\")"
      ],
      "execution_count": 24,
      "outputs": [
        {
          "output_type": "stream",
          "name": "stdout",
          "text": [
            "(450, 450, 3)\n"
          ]
        },
        {
          "output_type": "execute_result",
          "data": {
            "text/plain": [
              "<matplotlib.image.AxesImage at 0x7f2fc1434b90>"
            ]
          },
          "metadata": {},
          "execution_count": 24
        },
        {
          "output_type": "display_data",
          "data": {
            "image/png": "[encoded data removed]",
            "text/plain": [
              "<Figure size 432x288 with 1 Axes>"
            ]
          },
          "metadata": {
            "needs_background": "light"
          }
        }
      ]
    },
    {
      "cell_type": "code",
      "metadata": {
        "colab": {
          "base_uri": "https://localhost:8080/",
          "height": 286
        },
        "id": "42_mfmQjMYo8",
        "outputId": "f01b6048-1b26-4346-ecc9-68cae864ff67"
      },
      "source": [
        "imgContours = puzzle.copy() \n",
        "contours, hierarchy = cv2.findContours(puzzle, cv2.RETR_EXTERNAL, cv2.CHAIN_APPROX_SIMPLE) \n",
        "cv2.drawContours(imgContours, contours, -1, (0,255,0), 3)\n",
        "plt.imshow(imgContours,cmap=\"Greys_r\")\n"
      ],
      "execution_count": 25,
      "outputs": [
        {
          "output_type": "execute_result",
          "data": {
            "text/plain": [
              "<matplotlib.image.AxesImage at 0x7f2fc12615d0>"
            ]
          },
          "metadata": {},
          "execution_count": 25
        },
        {
          "output_type": "display_data",
          "data": {
            "image/png": "[encoded data removed]",
            "text/plain": [
              "<Figure size 432x288 with 1 Axes>"
            ]
          },
          "metadata": {
            "needs_background": "light"
          }
        }
      ]
    },
    {
      "cell_type": "code",
      "metadata": {
        "colab": {
          "base_uri": "https://localhost:8080/",
          "height": 269
        },
        "id": "CYXnj9tPKIca",
        "outputId": "64e68873-d347-4416-f04b-f89df33072d3"
      },
      "source": [
        "\n",
        "#splitting the sudoku images\n",
        "rows = np.vsplit(imgContours,9)\n",
        "plt.imshow(imgContours,cmap=\"Greys_r\")\n",
        "boxes=[]\n",
        "for r in rows:\n",
        "  cols= np.hsplit(r,9)\n",
        "  for box in cols:\n",
        "    boxes.append(box)\n"
      ],
      "execution_count": 26,
      "outputs": [
        {
          "output_type": "display_data",
          "data": {
            "image/png": "[encoded data removed]",
            "text/plain": [
              "<Figure size 432x288 with 1 Axes>"
            ]
          },
          "metadata": {
            "needs_background": "light"
          }
        }
      ]
    },
    {
      "cell_type": "code",
      "metadata": {
        "id": "BBV04t_TPjf5",
        "colab": {
          "base_uri": "https://localhost:8080/"
        },
        "outputId": "81796419-e4f4-473a-ba97-4728a825763c"
      },
      "source": [
        "\n",
        "#function to get prediction\n",
        "def getPredection(boxes,model):\n",
        "    result = []\n",
        "    for image in boxes:\n",
        "      \n",
        "        img = np.asarray(image)\n",
        "        img = img[4:img.shape[0] - 4, 4:img.shape[1] -4]\n",
        "        img = cv2.resize(img, (28, 28))\n",
        "        img = img / 255\n",
        "        img = img.reshape(1, 28, 28, 1)\n",
        "        \n",
        "        predictions = model.predict(img)\n",
        "        probabilityValue = np.amax(predictions)\n",
        "        pred = np.argmax(predictions, axis=-1)\n",
        "        \n",
        "        if probabilityValue > 0.8:\n",
        "            result.append(pred[0])\n",
        "        else:\n",
        "            result.append(0)\n",
        "    return result\n",
        "result=getPredection(boxes,model)\n",
        "print(result)\n"
      ],
      "execution_count": 27,
      "outputs": [
        {
          "output_type": "stream",
          "name": "stdout",
          "text": [
            "[0, 4, 0, 2, 0, 1, 0, 6, 0, 0, 0, 0, 0, 0, 0, 0, 0, 0, 9, 0, 5, 0, 0, 0, 3, 0, 7, 0, 0, 0, 0, 0, 0, 0, 0, 0, 5, 0, 7, 0, 8, 0, 1, 0, 4, 0, 1, 0, 0, 0, 0, 0, 9, 0, 0, 0, 1, 0, 0, 0, 6, 0, 0, 0, 0, 0, 7, 0, 5, 0, 0, 0, 6, 0, 8, 9, 0, 4, 5, 0, 3]\n"
          ]
        }
      ]
    },
    {
      "cell_type": "code",
      "metadata": {
        "colab": {
          "base_uri": "https://localhost:8080/"
        },
        "id": "hfJ6vkp0z8H7",
        "outputId": "2d5aec8a-7b47-4099-d812-3016a426df81"
      },
      "source": [
        "result=np.array(result)\n",
        "result=np.split(result,9)\n",
        "print(result)"
      ],
      "execution_count": 28,
      "outputs": [
        {
          "output_type": "stream",
          "name": "stdout",
          "text": [
            "[array([0, 4, 0, 2, 0, 1, 0, 6, 0]), array([0, 0, 0, 0, 0, 0, 0, 0, 0]), array([9, 0, 5, 0, 0, 0, 3, 0, 7]), array([0, 0, 0, 0, 0, 0, 0, 0, 0]), array([5, 0, 7, 0, 8, 0, 1, 0, 4]), array([0, 1, 0, 0, 0, 0, 0, 9, 0]), array([0, 0, 1, 0, 0, 0, 6, 0, 0]), array([0, 0, 0, 7, 0, 5, 0, 0, 0]), array([6, 0, 8, 9, 0, 4, 5, 0, 3])]\n"
          ]
        }
      ]
    },
    {
      "cell_type": "code",
      "metadata": {
        "colab": {
          "base_uri": "https://localhost:8080/"
        },
        "id": "R80pxbOJzIBQ",
        "outputId": "60ca0358-a566-4271-88cd-2330438d466a"
      },
      "source": [
        "#sudoku solving functions\n",
        "N = 9\n",
        "\n",
        "def printing(arr):\n",
        "\tfor i in range(N):\n",
        "\t\tfor j in range(N):\n",
        "\t\t\tprint(arr[i][j], end = \" \")\n",
        "\t\tprint()\n",
        "def isSafe(grid, row, col, num):\n",
        "\n",
        "\t\n",
        "\tfor x in range(9):\n",
        "\t\tif grid[row][x] == num:\n",
        "\t\t\treturn False\n",
        "\n",
        "\t\n",
        "\tfor x in range(9):\n",
        "\t\tif grid[x][col] == num:\n",
        "\t\t\treturn False\n",
        "\n",
        "\t\n",
        "\tstartRow = row - row % 3\n",
        "\tstartCol = col - col % 3\n",
        "\tfor i in range(3):\n",
        "\t\tfor j in range(3):\n",
        "\t\t\tif grid[i + startRow][j + startCol] == num:\n",
        "\t\t\t\treturn False\n",
        "\treturn True\n",
        "\n",
        "\n",
        "def solveSuduko(grid, row, col):\n",
        "\n",
        "\t\n",
        "\tif (row == N - 1 and col == N):\n",
        "\t\treturn True\n",
        "\t\n",
        "\t\n",
        "\tif col == N:\n",
        "\t\trow += 1\n",
        "\t\tcol = 0\n",
        "\n",
        "\t\n",
        "\tif grid[row][col] > 0:\n",
        "\t\treturn solveSuduko(grid, row, col + 1)\n",
        "\tfor num in range(1, N + 1, 1):\n",
        "\t\n",
        "\t\t\n",
        "\t\tif isSafe(grid, row, col, num):\n",
        "\t\t\n",
        "\t\t\t\n",
        "\t\t\tgrid[row][col] = num\n",
        "\n",
        "\t\t\t\n",
        "\t\t\tif solveSuduko(grid, row, col + 1):\n",
        "\t\t\t\treturn True\n",
        "\n",
        "\t\t\n",
        "\t\tgrid[row][col] = 0\n",
        "\treturn False\n",
        "\n",
        "\n",
        "grid = result\n",
        "\n",
        "if (solveSuduko(grid, 0, 0)):\n",
        "\tprinting(grid)\n",
        "else:\n",
        "\tprint(\"no solution exists \")\n",
        "\n",
        "\t\n"
      ],
      "execution_count": 30,
      "outputs": [
        {
          "output_type": "stream",
          "name": "stdout",
          "text": [
            "7 4 3 2 9 1 8 6 5 \n",
            "1 8 6 5 3 7 9 4 2 \n",
            "9 2 5 8 4 6 3 1 7 \n",
            "3 6 4 1 7 9 2 5 8 \n",
            "5 9 7 6 8 2 1 3 4 \n",
            "8 1 2 4 5 3 7 9 6 \n",
            "4 5 1 3 2 8 6 7 9 \n",
            "2 3 9 7 6 5 4 8 1 \n",
            "6 7 8 9 1 4 5 2 3 \n"
          ]
        }
      ]
    }
  ]
}